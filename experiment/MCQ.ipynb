{
 "cells": [
  {
   "cell_type": "code",
   "execution_count": 1,
   "metadata": {},
   "outputs": [],
   "source": [
    "import os\n",
    "import json\n",
    "import pandas as pd\n",
    "import traceback"
   ]
  },
  {
   "cell_type": "code",
   "execution_count": 2,
   "metadata": {},
   "outputs": [],
   "source": [
    "from langchain.chat_models import ChatOpenAI"
   ]
  },
  {
   "cell_type": "code",
   "execution_count": 9,
   "metadata": {},
   "outputs": [
    {
     "data": {
      "text/plain": [
       "True"
      ]
     },
     "execution_count": 9,
     "metadata": {},
     "output_type": "execute_result"
    }
   ],
   "source": [
    "from dotenv import load_dotenv\n",
    "load_dotenv()"
   ]
  },
  {
   "cell_type": "code",
   "execution_count": 10,
   "metadata": {},
   "outputs": [],
   "source": [
    "KEY=os.getenv(\"OPENAI_API_KEY\")"
   ]
  },
  {
   "cell_type": "code",
   "execution_count": 12,
   "metadata": {},
   "outputs": [],
   "source": [
    "llm=ChatOpenAI(openai_api_key=KEY,model_name=\"gpt-3.5-turbo\", temperature=0.4)"
   ]
  },
  {
   "cell_type": "code",
   "execution_count": 14,
   "metadata": {},
   "outputs": [],
   "source": [
    "from langchain.llms import OpenAI\n",
    "from langchain.prompts import PromptTemplate\n",
    "from langchain.chains import LLMChain\n",
    "from langchain.chains import SequentialChain\n",
    "from langchain.callbacks import get_openai_callback\n",
    "import PyPDF2"
   ]
  },
  {
   "cell_type": "code",
   "execution_count": 18,
   "metadata": {},
   "outputs": [],
   "source": [
    "RESPONSE_JSON = {\n",
    "    \"1\": {\n",
    "        \"mcq\": \"multiple choice question\",\n",
    "        \"options\": {\n",
    "            \"a\": \"choice here\",\n",
    "            \"b\": \"choice here\",\n",
    "            \"c\": \"choice here\",\n",
    "            \"d\": \"choice here\",\n",
    "        },\n",
    "        \"correct\": \"correct answer\",\n",
    "    },\n",
    "    \"2\": {\n",
    "        \"mcq\": \"multiple choice question\",\n",
    "        \"options\": {\n",
    "            \"a\": \"choice here\",\n",
    "            \"b\": \"choice here\",\n",
    "            \"c\": \"choice here\",\n",
    "            \"d\": \"choice here\",\n",
    "        },\n",
    "        \"correct\": \"correct answer\",\n",
    "    },\n",
    "    \"3\": {\n",
    "        \"mcq\": \"multiple choice question\",\n",
    "        \"options\": {\n",
    "            \"a\": \"choice here\",\n",
    "            \"b\": \"choice here\",\n",
    "            \"c\": \"choice here\",\n",
    "            \"d\": \"choice here\",\n",
    "        },\n",
    "        \"correct\": \"correct answer\",\n",
    "    },\n",
    "}"
   ]
  },
  {
   "cell_type": "code",
   "execution_count": 17,
   "metadata": {},
   "outputs": [],
   "source": [
    "TEMPLATE=\"\"\"\n",
    "text:{text}\n",
    "you are an expert mcq maker. given the above text, it is your job to \\ \n",
    "create a quiz of {number} multiple choice questions for {subject} students in {tone} tone. \n",
    "make sure the questions are not repeated and check all the questions to be conforming the text as well. \n",
    "make sure to format your response like RESPONSE_JSON bellow and use it as a guide. \\\n",
    "ensure to make {number} mcqs.\n",
    "### RESPONSE_JSON \n",
    "{response_json} \n",
    "\n",
    "\"\"\""
   ]
  },
  {
   "cell_type": "code",
   "execution_count": 19,
   "metadata": {},
   "outputs": [],
   "source": [
    "quiz_generation_prompt=PromptTemplate(\n",
    "    input_variables=[\"text\",\"number\",\"subject\",\"tone\",\"response_json\"],\n",
    "    template=TEMPLATE\n",
    ")"
   ]
  },
  {
   "cell_type": "code",
   "execution_count": 24,
   "metadata": {},
   "outputs": [],
   "source": [
    "quiz_chain=LLMChain(llm=llm, prompt=quiz_generation_prompt, output_key=\"quiz\", verbose=True)"
   ]
  },
  {
   "cell_type": "code",
   "execution_count": 20,
   "metadata": {},
   "outputs": [],
   "source": [
    "TEMPLATE2=\"\"\"\n",
    "You are an expert english grammarian and writer. Given a Multiple Choice Quiz for {subject} students.\\\n",
    "You need to evaluate the complexity of the question and give a complete analysis of the quiz. Only use at max 50 words for complexity analysis. \n",
    "if the quiz is not at per with the cognitive and analytical abilities of the students,\\\n",
    "update the quiz questions which needs to be changed and change the tone such that it perfectly fits the student abilities\n",
    "Quiz_MCQs:\n",
    "{quiz}\n",
    "\n",
    "Check from an expert English Writer of the above quiz:\n",
    "\"\"\""
   ]
  },
  {
   "cell_type": "code",
   "execution_count": 21,
   "metadata": {},
   "outputs": [],
   "source": [
    "quiz_evaluation_prompt=PromptTemplate(input_variables=[\"subject\", \"quiz\"], template=TEMPLATE2)"
   ]
  },
  {
   "cell_type": "code",
   "execution_count": 22,
   "metadata": {},
   "outputs": [],
   "source": [
    "review_chain=LLMChain(llm=llm, prompt=quiz_evaluation_prompt, output_key=\"review\", verbose=True)"
   ]
  },
  {
   "cell_type": "code",
   "execution_count": 25,
   "metadata": {},
   "outputs": [],
   "source": [
    "generate_evaluate_chain=SequentialChain(chains=[quiz_chain, review_chain], input_variables=[\"text\", \"number\", \"subject\", \"tone\", \"response_json\"],\n",
    "                                        output_variables=[\"quiz\", \"review\"], verbose=True,)"
   ]
  },
  {
   "cell_type": "code",
   "execution_count": 26,
   "metadata": {},
   "outputs": [],
   "source": [
    "file_path=r\"C:\\Users\\victo\\MCQgenerator\\data.txt\""
   ]
  },
  {
   "cell_type": "code",
   "execution_count": 27,
   "metadata": {},
   "outputs": [
    {
     "data": {
      "text/plain": [
       "'C:\\\\Users\\\\victo\\\\MCQgenerator\\\\data.txt'"
      ]
     },
     "execution_count": 27,
     "metadata": {},
     "output_type": "execute_result"
    }
   ],
   "source": [
    "file_path"
   ]
  },
  {
   "cell_type": "code",
   "execution_count": 28,
   "metadata": {},
   "outputs": [],
   "source": [
    "with open(file_path, 'r') as file:\n",
    "    TEXT = file.read()"
   ]
  },
  {
   "cell_type": "code",
   "execution_count": 29,
   "metadata": {},
   "outputs": [
    {
     "name": "stdout",
     "output_type": "stream",
     "text": [
      "Brazilian jiu-jitsu (BJJ; Portuguese: jiu-jitsu brasileiro [ʒiw ˈʒitsu bɾaziˈlejɾu, ʒu -]) is a self-defence martial art and combat sport based on grappling, ground fighting, and submission holds. BJJ focuses on taking ones opponent down to the ground, gaining a dominant position, and using a number of techniques to force them into submission via joint locks or chokeholds.\n",
      "\n",
      "Brazilian jiu-jitsu was first developed in 1925 by Brazilian brothers Carlos, Oswaldo, Gastão Jr., O’Brien, and Hélio Gracie, after Carlos was taught a hybrid of traditional Japanese Jujitsu and Kodokan judo by a travelling Japanese judoka, Mitsuyo Maeda, in 1917. Later on, the Gracie family developed their own self-defense system Gracie Jiu-Jitsu.\n",
      "\n",
      "BJJ eventually came to be its own defined combat sport through the innovations, practices, and adaptation of Gracie jiu-jitsu and judo, and became an essential martial art for modern MMA.\n",
      "\n",
      "BJJ revolves around the concept that a smaller, weaker person can successfully defend themselves against a bigger, stronger, heavier opponent by using leverage and weight distribution, taking the fight to the ground and using a number of holds and submissions to defeat them. BJJ training can be used for sport grappling and self-defense situations.[3] Sparring, commonly referred to as \"rolling\" within the BJJ community, and live drilling plays a major role in training and the practitioner's development. BJJ can also be used as a method of promoting physical fitness, building character, and as a way of life.[4][5] \n",
      "Origins\n",
      "\n",
      "Mitsuyo Maeda, one of the Kodokan's top groundwork experts trained by Tomita Tsunejirō, the first student of judo's founder Kano Jigoro, was sent overseas to demonstrate and spread his art to the world. He left Japan in 1904 and visited several countries giving \"jiu-do\" demonstrations and accepting challenges from wrestlers, boxers, savate fighters, and various other martial artists, and arrived in Brazil on 14 November 1914.[6]\n",
      "Maeda & Gracie\n",
      "\n",
      "Gastão Gracie was a business partner of the American Circus in Belém. In 1916, Italian Argentine circus Queirolo Brothers staged shows there and presented Maeda.[7][8]\n",
      "\n",
      "In 1917 Gastão's eldest son Carlos Gracie[9] watched a demonstration of ‘Kano jiu-jitsu’ (judo's common name at the time) by Maeda at the Da Paz Theatre and decided he wanted to learn. Maeda accepted him as a pupil at his school overseen by Jacintho Ferro.[1] Gracie's account of the events is that his younger sibling Hélio Gracie gradually developed Gracie jiu-jitsu as a softer, pragmatic adaptation that focused more on the ground fighting and leverages aspect of jiu-jitsu/judo (ne-waza) rather than the throws, as he was unable to perform many judo throws, due to his size, that required direct opposition to an opponent's strength.[10]\n",
      "\n",
      "Although the Gracie family is typically recognized as the main family to first promote Brazilian jiu-jitsu as it is known today, there was also another prominent lineage derived from Maeda via another Brazilian disciple, Luiz França.[11] This discipline was taught to Italian legend of the sport Marco Donello who later on passed his extensive knowledge to Mark McDonnell (his Australian nephew). This lineage had been represented particularly by Oswaldo Fadda. Fadda and his students were famous for defeating the Gracies in a gym battle and the influential use of footlocks,[12] and the lineage still survives through Fadda's links in teams such as Nova União and Grappling Fight Team.[13] Besides Fadda's lineage, there are four other main BJJ branches in Brazil: Gracie Humaita, Gracie Barra, Carlson Gracie Jiu-Jitsu, and Alliance Jiu Jitsu. Each branch traces its roots back to Mitsuyo Maeda.\n",
      "Name\n",
      "\n",
      "The name \"jiu-jitsu\" derives from an older romanization of its original spelling in the West; the modern Hepburn romanization of 柔術 is \"jūjutsu\".\n",
      "\n",
      "When Maeda left Japan, judo was still often referred to as \"Kano jiu-jitsu\",[14] or, even more generically, simply as jiu-jitsu.[15][16] Higashi, the co-author of The Complete Kano Jiu-Jitsu (Judo)[14] wrote in the foreword:\n",
      "\n",
      "    Some confusion has arisen over the employment of the term 'jiudo'. To make the matter clear I will state that jiudo is the term selected by Professor Kano as describing his system more accurately than jiu-jitsu does. Professor Kano is one of the leading educators of Japan, and it is natural that he should cast about for the technical word that would most accurately describe his system. But the Japanese people generally still cling to the more popular nomenclature and call it jiu-jitsu.[14]\n",
      "\n",
      "Young Hélio Gracie in 1952.\n",
      "\n",
      "Outside Japan, however, this distinction was noted even less. Thus, when Maeda and Satake arrived in Brazil in 1914, every newspaper announced their art as being \"jiu-jitsu\", despite both men being Kodokan judoka.\n",
      "\n",
      "It was not until 1925 that the Japanese government itself officially mandated that the correct name for the martial art taught in the Japanese public schools should be \"judo\" rather than \"jujutsu\".[17] In Brazil, the art is still called \"jiu-jitsu\". When the Gracies went to the United States and spread jiu-jitsu, they used the terms \"Gracie jiu-jitsu\" and non-Gracies using the term \"Brazilian jiu-jitsu\" to differentiate from the already present styles using similar-sounding names. In a 1994 interview with Yoshinori Nishi, Hélio Gracie said that he did not even know the word judo itself until the sport came in the 1950s to Brazil, because he heard that Mitsuyo Maeda called his style \"jiu-jitsu\".\n",
      "\n",
      "The art is sometimes referred to as Gracie jiu-jitsu (GJJ), a name trademarked by Rorion Gracie, but after a legal dispute with his cousin Carley Gracie, his trademark to the name was voided.[18] Other members of the Gracie family often call their style by personalized names, such as Ceaser Gracie Jiu-Jitsu or Renzo Gracie Jiu-Jitsu, and similarly, the Machado family call their style Machado Jiu-Jitsu (MJJ). While each style and its instructors have their own unique aspects, they are all basic variations of Brazilian jiu-jitsu.\n",
      "\n",
      "Brazilian jiu-jitsu shares many techniques with the original Kodokan judo, especially certain styles practiced before judo became part of the Olympics such as Kosen judo,[19][20] and still practiced to a lesser extent,[21] as well as with the earlier ryu school of jujutsu. Because of this some practitioners have suggested that Brazilian jiu-jitsu should just be called \"jiu-jitsu\".[22]\n",
      "Divergence from Kodokan Judo and Jujutsu\n",
      "\n",
      "Certain changes were made to the rules of judo after it was introduced to Brazil. Some of these rule changes sought to enhance it as a spectator sport, and to improve safety. Several of these rule changes de-emphasized the groundwork aspects of judo, and others have reduced the range of joint locks application. Brazilian jiu-jitsu since its inception did not strictly follow kodokan judo rules, this divergence helped BJJ develop a distinct identity becoming a groundwork and submission focus fighting style. This difference was later consolidated with the creation of a new set of rules that guide BJJ practice today.[23]\n",
      "\n",
      "Even though BJJ uses and allows many of the techniques found in judo and jujutsu, the evolution of these techniques in BJJ has followed a distinct path, giving primary emphasis to ground fighting positions and maneuvers, and having the guard as the central working point of the fight. There's also a difference on how the fighting techniques are scored in competition. In BJJ positions such as the rear mount receive a higher score, and the focus of the fight is to establish a dominant position against the adversary on the ground and submit them using chokeholds or joint locks. By contrast in judo, throwing techniques are scored higher and can give a direct victory if executed correctly, the goal of the fight is to sweep or throw the opponent to the ground to win.\n",
      "\n",
      "BJJ also allows heelhooks and knee-reaping which are prohibited in judo, and any takedowns used in wrestling, sambo, or other grappling arts, including direct attempts to take down by touching the legs or dragging the opponent to the ground.[24] Spinal locks and cervical locks are not allowed in gi jiu-jitsu,[23] amateur MMA,[25] multiple forms of no-gi jiu-jitsu,[23] Judo,[26] and other martial arts,[27] due to potential to cause serious bodily injury. BJJ also has become more \"sports-oriented\" in recent years, prohibiting techniques such as slams.[28] Another divergence of BJJ from judo and jujutsu is that the first allows no-gi practice and competition, with its own subset of rules. Use of holds and takedowns from wrestling and other grappling styles is common in no-gi BJJ, and strikes may also be used when the competition rules permit, such as the open palm strike in CJJ (Combat jiu-jitsu).[29]\n",
      "Prominence\n",
      "\n",
      "In 1972, Carlos Gracie moved to the United States to teach jiu-jitsu, and in 1978 was followed by Rorion Gracie, who co-founded the Ultimate Fighting Championship (UFC) in 1993.[30][31] Jiu-jitsu came to international prominence in martial arts circles when Brazilian jiu-jitsu expert Royce Gracie won the first, second and fourth Ultimate Fighting Championships, which at the time were single elimination martial arts tournaments. Royce fought successfully against several larger opponents proficient in other fighting styles, including boxing, shootfighting, Muay Thai, karate, wrestling, and taekwondo. BJJ has since become an elementary aspect of MMA, revealing the importance of ground fighting in a fight. Sport BJJ tournaments continue to grow in popularity and have given rise to no-gi submission grappling tournaments, such as the ADCC Submission Wrestling World Championship and NAGA, the North American Grappling Association. Sport BJJ has also become a popular method of fitness around the world in recent years.[32][33] \n"
     ]
    }
   ],
   "source": [
    "print(TEXT)"
   ]
  },
  {
   "cell_type": "code",
   "execution_count": 30,
   "metadata": {},
   "outputs": [
    {
     "data": {
      "text/plain": [
       "'{\"1\": {\"mcq\": \"multiple choice question\", \"options\": {\"a\": \"choice here\", \"b\": \"choice here\", \"c\": \"choice here\", \"d\": \"choice here\"}, \"correct\": \"correct answer\"}, \"2\": {\"mcq\": \"multiple choice question\", \"options\": {\"a\": \"choice here\", \"b\": \"choice here\", \"c\": \"choice here\", \"d\": \"choice here\"}, \"correct\": \"correct answer\"}, \"3\": {\"mcq\": \"multiple choice question\", \"options\": {\"a\": \"choice here\", \"b\": \"choice here\", \"c\": \"choice here\", \"d\": \"choice here\"}, \"correct\": \"correct answer\"}}'"
      ]
     },
     "execution_count": 30,
     "metadata": {},
     "output_type": "execute_result"
    }
   ],
   "source": [
    "json.dumps(RESPONSE_JSON)"
   ]
  },
  {
   "cell_type": "code",
   "execution_count": 31,
   "metadata": {},
   "outputs": [],
   "source": [
    "NUMBER=4\n",
    "SUBJECT=\"Brasilian Jiu Jitsu\"\n",
    "TONE=\"simple\""
   ]
  },
  {
   "cell_type": "code",
   "execution_count": 32,
   "metadata": {},
   "outputs": [
    {
     "name": "stderr",
     "output_type": "stream",
     "text": [
      "c:\\Users\\victo\\MCQgenerator\\env\\lib\\site-packages\\langchain_core\\_api\\deprecation.py:117: LangChainDeprecationWarning: The function `__call__` was deprecated in LangChain 0.1.0 and will be removed in 0.2.0. Use invoke instead.\n",
      "  warn_deprecated(\n"
     ]
    },
    {
     "name": "stdout",
     "output_type": "stream",
     "text": [
      "\n",
      "\n",
      "\u001b[1m> Entering new SequentialChain chain...\u001b[0m\n",
      "\n",
      "\n",
      "\u001b[1m> Entering new LLMChain chain...\u001b[0m\n",
      "Prompt after formatting:\n",
      "\u001b[32;1m\u001b[1;3m\n",
      "text:Brazilian jiu-jitsu (BJJ; Portuguese: jiu-jitsu brasileiro [ʒiw ˈʒitsu bɾaziˈlejɾu, ʒu -]) is a self-defence martial art and combat sport based on grappling, ground fighting, and submission holds. BJJ focuses on taking ones opponent down to the ground, gaining a dominant position, and using a number of techniques to force them into submission via joint locks or chokeholds.\n",
      "\n",
      "Brazilian jiu-jitsu was first developed in 1925 by Brazilian brothers Carlos, Oswaldo, Gastão Jr., O’Brien, and Hélio Gracie, after Carlos was taught a hybrid of traditional Japanese Jujitsu and Kodokan judo by a travelling Japanese judoka, Mitsuyo Maeda, in 1917. Later on, the Gracie family developed their own self-defense system Gracie Jiu-Jitsu.\n",
      "\n",
      "BJJ eventually came to be its own defined combat sport through the innovations, practices, and adaptation of Gracie jiu-jitsu and judo, and became an essential martial art for modern MMA.\n",
      "\n",
      "BJJ revolves around the concept that a smaller, weaker person can successfully defend themselves against a bigger, stronger, heavier opponent by using leverage and weight distribution, taking the fight to the ground and using a number of holds and submissions to defeat them. BJJ training can be used for sport grappling and self-defense situations.[3] Sparring, commonly referred to as \"rolling\" within the BJJ community, and live drilling plays a major role in training and the practitioner's development. BJJ can also be used as a method of promoting physical fitness, building character, and as a way of life.[4][5] \n",
      "Origins\n",
      "\n",
      "Mitsuyo Maeda, one of the Kodokan's top groundwork experts trained by Tomita Tsunejirō, the first student of judo's founder Kano Jigoro, was sent overseas to demonstrate and spread his art to the world. He left Japan in 1904 and visited several countries giving \"jiu-do\" demonstrations and accepting challenges from wrestlers, boxers, savate fighters, and various other martial artists, and arrived in Brazil on 14 November 1914.[6]\n",
      "Maeda & Gracie\n",
      "\n",
      "Gastão Gracie was a business partner of the American Circus in Belém. In 1916, Italian Argentine circus Queirolo Brothers staged shows there and presented Maeda.[7][8]\n",
      "\n",
      "In 1917 Gastão's eldest son Carlos Gracie[9] watched a demonstration of ‘Kano jiu-jitsu’ (judo's common name at the time) by Maeda at the Da Paz Theatre and decided he wanted to learn. Maeda accepted him as a pupil at his school overseen by Jacintho Ferro.[1] Gracie's account of the events is that his younger sibling Hélio Gracie gradually developed Gracie jiu-jitsu as a softer, pragmatic adaptation that focused more on the ground fighting and leverages aspect of jiu-jitsu/judo (ne-waza) rather than the throws, as he was unable to perform many judo throws, due to his size, that required direct opposition to an opponent's strength.[10]\n",
      "\n",
      "Although the Gracie family is typically recognized as the main family to first promote Brazilian jiu-jitsu as it is known today, there was also another prominent lineage derived from Maeda via another Brazilian disciple, Luiz França.[11] This discipline was taught to Italian legend of the sport Marco Donello who later on passed his extensive knowledge to Mark McDonnell (his Australian nephew). This lineage had been represented particularly by Oswaldo Fadda. Fadda and his students were famous for defeating the Gracies in a gym battle and the influential use of footlocks,[12] and the lineage still survives through Fadda's links in teams such as Nova União and Grappling Fight Team.[13] Besides Fadda's lineage, there are four other main BJJ branches in Brazil: Gracie Humaita, Gracie Barra, Carlson Gracie Jiu-Jitsu, and Alliance Jiu Jitsu. Each branch traces its roots back to Mitsuyo Maeda.\n",
      "Name\n",
      "\n",
      "The name \"jiu-jitsu\" derives from an older romanization of its original spelling in the West; the modern Hepburn romanization of 柔術 is \"jūjutsu\".\n",
      "\n",
      "When Maeda left Japan, judo was still often referred to as \"Kano jiu-jitsu\",[14] or, even more generically, simply as jiu-jitsu.[15][16] Higashi, the co-author of The Complete Kano Jiu-Jitsu (Judo)[14] wrote in the foreword:\n",
      "\n",
      "    Some confusion has arisen over the employment of the term 'jiudo'. To make the matter clear I will state that jiudo is the term selected by Professor Kano as describing his system more accurately than jiu-jitsu does. Professor Kano is one of the leading educators of Japan, and it is natural that he should cast about for the technical word that would most accurately describe his system. But the Japanese people generally still cling to the more popular nomenclature and call it jiu-jitsu.[14]\n",
      "\n",
      "Young Hélio Gracie in 1952.\n",
      "\n",
      "Outside Japan, however, this distinction was noted even less. Thus, when Maeda and Satake arrived in Brazil in 1914, every newspaper announced their art as being \"jiu-jitsu\", despite both men being Kodokan judoka.\n",
      "\n",
      "It was not until 1925 that the Japanese government itself officially mandated that the correct name for the martial art taught in the Japanese public schools should be \"judo\" rather than \"jujutsu\".[17] In Brazil, the art is still called \"jiu-jitsu\". When the Gracies went to the United States and spread jiu-jitsu, they used the terms \"Gracie jiu-jitsu\" and non-Gracies using the term \"Brazilian jiu-jitsu\" to differentiate from the already present styles using similar-sounding names. In a 1994 interview with Yoshinori Nishi, Hélio Gracie said that he did not even know the word judo itself until the sport came in the 1950s to Brazil, because he heard that Mitsuyo Maeda called his style \"jiu-jitsu\".\n",
      "\n",
      "The art is sometimes referred to as Gracie jiu-jitsu (GJJ), a name trademarked by Rorion Gracie, but after a legal dispute with his cousin Carley Gracie, his trademark to the name was voided.[18] Other members of the Gracie family often call their style by personalized names, such as Ceaser Gracie Jiu-Jitsu or Renzo Gracie Jiu-Jitsu, and similarly, the Machado family call their style Machado Jiu-Jitsu (MJJ). While each style and its instructors have their own unique aspects, they are all basic variations of Brazilian jiu-jitsu.\n",
      "\n",
      "Brazilian jiu-jitsu shares many techniques with the original Kodokan judo, especially certain styles practiced before judo became part of the Olympics such as Kosen judo,[19][20] and still practiced to a lesser extent,[21] as well as with the earlier ryu school of jujutsu. Because of this some practitioners have suggested that Brazilian jiu-jitsu should just be called \"jiu-jitsu\".[22]\n",
      "Divergence from Kodokan Judo and Jujutsu\n",
      "\n",
      "Certain changes were made to the rules of judo after it was introduced to Brazil. Some of these rule changes sought to enhance it as a spectator sport, and to improve safety. Several of these rule changes de-emphasized the groundwork aspects of judo, and others have reduced the range of joint locks application. Brazilian jiu-jitsu since its inception did not strictly follow kodokan judo rules, this divergence helped BJJ develop a distinct identity becoming a groundwork and submission focus fighting style. This difference was later consolidated with the creation of a new set of rules that guide BJJ practice today.[23]\n",
      "\n",
      "Even though BJJ uses and allows many of the techniques found in judo and jujutsu, the evolution of these techniques in BJJ has followed a distinct path, giving primary emphasis to ground fighting positions and maneuvers, and having the guard as the central working point of the fight. There's also a difference on how the fighting techniques are scored in competition. In BJJ positions such as the rear mount receive a higher score, and the focus of the fight is to establish a dominant position against the adversary on the ground and submit them using chokeholds or joint locks. By contrast in judo, throwing techniques are scored higher and can give a direct victory if executed correctly, the goal of the fight is to sweep or throw the opponent to the ground to win.\n",
      "\n",
      "BJJ also allows heelhooks and knee-reaping which are prohibited in judo, and any takedowns used in wrestling, sambo, or other grappling arts, including direct attempts to take down by touching the legs or dragging the opponent to the ground.[24] Spinal locks and cervical locks are not allowed in gi jiu-jitsu,[23] amateur MMA,[25] multiple forms of no-gi jiu-jitsu,[23] Judo,[26] and other martial arts,[27] due to potential to cause serious bodily injury. BJJ also has become more \"sports-oriented\" in recent years, prohibiting techniques such as slams.[28] Another divergence of BJJ from judo and jujutsu is that the first allows no-gi practice and competition, with its own subset of rules. Use of holds and takedowns from wrestling and other grappling styles is common in no-gi BJJ, and strikes may also be used when the competition rules permit, such as the open palm strike in CJJ (Combat jiu-jitsu).[29]\n",
      "Prominence\n",
      "\n",
      "In 1972, Carlos Gracie moved to the United States to teach jiu-jitsu, and in 1978 was followed by Rorion Gracie, who co-founded the Ultimate Fighting Championship (UFC) in 1993.[30][31] Jiu-jitsu came to international prominence in martial arts circles when Brazilian jiu-jitsu expert Royce Gracie won the first, second and fourth Ultimate Fighting Championships, which at the time were single elimination martial arts tournaments. Royce fought successfully against several larger opponents proficient in other fighting styles, including boxing, shootfighting, Muay Thai, karate, wrestling, and taekwondo. BJJ has since become an elementary aspect of MMA, revealing the importance of ground fighting in a fight. Sport BJJ tournaments continue to grow in popularity and have given rise to no-gi submission grappling tournaments, such as the ADCC Submission Wrestling World Championship and NAGA, the North American Grappling Association. Sport BJJ has also become a popular method of fitness around the world in recent years.[32][33] \n",
      "you are an expert mcq maker. given the above text, it is your job to \\ \n",
      "create a quiz of 4 multiple choice questions for Brasilian Jiu Jitsu students in simple tone. \n",
      "make sure the questions are not repeated and check all the questions to be conforming the text as well. \n",
      "make sure to format your response like RESPONSE_JSON bellow and use it as a guide. ensure to make 4 mcqs.\n",
      "### RESPONSE_JSON \n",
      "{\"1\": {\"mcq\": \"multiple choice question\", \"options\": {\"a\": \"choice here\", \"b\": \"choice here\", \"c\": \"choice here\", \"d\": \"choice here\"}, \"correct\": \"correct answer\"}, \"2\": {\"mcq\": \"multiple choice question\", \"options\": {\"a\": \"choice here\", \"b\": \"choice here\", \"c\": \"choice here\", \"d\": \"choice here\"}, \"correct\": \"correct answer\"}, \"3\": {\"mcq\": \"multiple choice question\", \"options\": {\"a\": \"choice here\", \"b\": \"choice here\", \"c\": \"choice here\", \"d\": \"choice here\"}, \"correct\": \"correct answer\"}} \n",
      "\n",
      "\u001b[0m\n",
      "\n",
      "\u001b[1m> Finished chain.\u001b[0m\n",
      "\n",
      "\n",
      "\u001b[1m> Entering new LLMChain chain...\u001b[0m\n",
      "Prompt after formatting:\n",
      "\u001b[32;1m\u001b[1;3m\n",
      "text:Brazilian jiu-jitsu (BJJ; Portuguese: jiu-jitsu brasileiro [ʒiw ˈʒitsu bɾaziˈlejɾu, ʒu -]) is a self-defence martial art and combat sport based on grappling, ground fighting, and submission holds. BJJ focuses on taking ones opponent down to the ground, gaining a dominant position, and using a number of techniques to force them into submission via joint locks or chokeholds.\n",
      "\n",
      "Brazilian jiu-jitsu was first developed in 1925 by Brazilian brothers Carlos, Oswaldo, Gastão Jr., O’Brien, and Hélio Gracie, after Carlos was taught a hybrid of traditional Japanese Jujitsu and Kodokan judo by a travelling Japanese judoka, Mitsuyo Maeda, in 1917. Later on, the Gracie family developed their own self-defense system Gracie Jiu-Jitsu.\n",
      "\n",
      "BJJ eventually came to be its own defined combat sport through the innovations, practices, and adaptation of Gracie jiu-jitsu and judo, and became an essential martial art for modern MMA.\n",
      "\n",
      "BJJ revolves around the concept that a smaller, weaker person can successfully defend themselves against a bigger, stronger, heavier opponent by using leverage and weight distribution, taking the fight to the ground and using a number of holds and submissions to defeat them. BJJ training can be used for sport grappling and self-defense situations.[3] Sparring, commonly referred to as \"rolling\" within the BJJ community, and live drilling plays a major role in training and the practitioner's development. BJJ can also be used as a method of promoting physical fitness, building character, and as a way of life.[4][5] \n",
      "Origins\n",
      "\n",
      "Mitsuyo Maeda, one of the Kodokan's top groundwork experts trained by Tomita Tsunejirō, the first student of judo's founder Kano Jigoro, was sent overseas to demonstrate and spread his art to the world. He left Japan in 1904 and visited several countries giving \"jiu-do\" demonstrations and accepting challenges from wrestlers, boxers, savate fighters, and various other martial artists, and arrived in Brazil on 14 November 1914.[6]\n",
      "Maeda & Gracie\n",
      "\n",
      "Gastão Gracie was a business partner of the American Circus in Belém. In 1916, Italian Argentine circus Queirolo Brothers staged shows there and presented Maeda.[7][8]\n",
      "\n",
      "In 1917 Gastão's eldest son Carlos Gracie[9] watched a demonstration of ‘Kano jiu-jitsu’ (judo's common name at the time) by Maeda at the Da Paz Theatre and decided he wanted to learn. Maeda accepted him as a pupil at his school overseen by Jacintho Ferro.[1] Gracie's account of the events is that his younger sibling Hélio Gracie gradually developed Gracie jiu-jitsu as a softer, pragmatic adaptation that focused more on the ground fighting and leverages aspect of jiu-jitsu/judo (ne-waza) rather than the throws, as he was unable to perform many judo throws, due to his size, that required direct opposition to an opponent's strength.[10]\n",
      "\n",
      "Although the Gracie family is typically recognized as the main family to first promote Brazilian jiu-jitsu as it is known today, there was also another prominent lineage derived from Maeda via another Brazilian disciple, Luiz França.[11] This discipline was taught to Italian legend of the sport Marco Donello who later on passed his extensive knowledge to Mark McDonnell (his Australian nephew). This lineage had been represented particularly by Oswaldo Fadda. Fadda and his students were famous for defeating the Gracies in a gym battle and the influential use of footlocks,[12] and the lineage still survives through Fadda's links in teams such as Nova União and Grappling Fight Team.[13] Besides Fadda's lineage, there are four other main BJJ branches in Brazil: Gracie Humaita, Gracie Barra, Carlson Gracie Jiu-Jitsu, and Alliance Jiu Jitsu. Each branch traces its roots back to Mitsuyo Maeda.\n",
      "Name\n",
      "\n",
      "The name \"jiu-jitsu\" derives from an older romanization of its original spelling in the West; the modern Hepburn romanization of 柔術 is \"jūjutsu\".\n",
      "\n",
      "When Maeda left Japan, judo was still often referred to as \"Kano jiu-jitsu\",[14] or, even more generically, simply as jiu-jitsu.[15][16] Higashi, the co-author of The Complete Kano Jiu-Jitsu (Judo)[14] wrote in the foreword:\n",
      "\n",
      "    Some confusion has arisen over the employment of the term 'jiudo'. To make the matter clear I will state that jiudo is the term selected by Professor Kano as describing his system more accurately than jiu-jitsu does. Professor Kano is one of the leading educators of Japan, and it is natural that he should cast about for the technical word that would most accurately describe his system. But the Japanese people generally still cling to the more popular nomenclature and call it jiu-jitsu.[14]\n",
      "\n",
      "Young Hélio Gracie in 1952.\n",
      "\n",
      "Outside Japan, however, this distinction was noted even less. Thus, when Maeda and Satake arrived in Brazil in 1914, every newspaper announced their art as being \"jiu-jitsu\", despite both men being Kodokan judoka.\n",
      "\n",
      "It was not until 1925 that the Japanese government itself officially mandated that the correct name for the martial art taught in the Japanese public schools should be \"judo\" rather than \"jujutsu\".[17] In Brazil, the art is still called \"jiu-jitsu\". When the Gracies went to the United States and spread jiu-jitsu, they used the terms \"Gracie jiu-jitsu\" and non-Gracies using the term \"Brazilian jiu-jitsu\" to differentiate from the already present styles using similar-sounding names. In a 1994 interview with Yoshinori Nishi, Hélio Gracie said that he did not even know the word judo itself until the sport came in the 1950s to Brazil, because he heard that Mitsuyo Maeda called his style \"jiu-jitsu\".\n",
      "\n",
      "The art is sometimes referred to as Gracie jiu-jitsu (GJJ), a name trademarked by Rorion Gracie, but after a legal dispute with his cousin Carley Gracie, his trademark to the name was voided.[18] Other members of the Gracie family often call their style by personalized names, such as Ceaser Gracie Jiu-Jitsu or Renzo Gracie Jiu-Jitsu, and similarly, the Machado family call their style Machado Jiu-Jitsu (MJJ). While each style and its instructors have their own unique aspects, they are all basic variations of Brazilian jiu-jitsu.\n",
      "\n",
      "Brazilian jiu-jitsu shares many techniques with the original Kodokan judo, especially certain styles practiced before judo became part of the Olympics such as Kosen judo,[19][20] and still practiced to a lesser extent,[21] as well as with the earlier ryu school of jujutsu. Because of this some practitioners have suggested that Brazilian jiu-jitsu should just be called \"jiu-jitsu\".[22]\n",
      "Divergence from Kodokan Judo and Jujutsu\n",
      "\n",
      "Certain changes were made to the rules of judo after it was introduced to Brazil. Some of these rule changes sought to enhance it as a spectator sport, and to improve safety. Several of these rule changes de-emphasized the groundwork aspects of judo, and others have reduced the range of joint locks application. Brazilian jiu-jitsu since its inception did not strictly follow kodokan judo rules, this divergence helped BJJ develop a distinct identity becoming a groundwork and submission focus fighting style. This difference was later consolidated with the creation of a new set of rules that guide BJJ practice today.[23]\n",
      "\n",
      "Even though BJJ uses and allows many of the techniques found in judo and jujutsu, the evolution of these techniques in BJJ has followed a distinct path, giving primary emphasis to ground fighting positions and maneuvers, and having the guard as the central working point of the fight. There's also a difference on how the fighting techniques are scored in competition. In BJJ positions such as the rear mount receive a higher score, and the focus of the fight is to establish a dominant position against the adversary on the ground and submit them using chokeholds or joint locks. By contrast in judo, throwing techniques are scored higher and can give a direct victory if executed correctly, the goal of the fight is to sweep or throw the opponent to the ground to win.\n",
      "\n",
      "BJJ also allows heelhooks and knee-reaping which are prohibited in judo, and any takedowns used in wrestling, sambo, or other grappling arts, including direct attempts to take down by touching the legs or dragging the opponent to the ground.[24] Spinal locks and cervical locks are not allowed in gi jiu-jitsu,[23] amateur MMA,[25] multiple forms of no-gi jiu-jitsu,[23] Judo,[26] and other martial arts,[27] due to potential to cause serious bodily injury. BJJ also has become more \"sports-oriented\" in recent years, prohibiting techniques such as slams.[28] Another divergence of BJJ from judo and jujutsu is that the first allows no-gi practice and competition, with its own subset of rules. Use of holds and takedowns from wrestling and other grappling styles is common in no-gi BJJ, and strikes may also be used when the competition rules permit, such as the open palm strike in CJJ (Combat jiu-jitsu).[29]\n",
      "Prominence\n",
      "\n",
      "In 1972, Carlos Gracie moved to the United States to teach jiu-jitsu, and in 1978 was followed by Rorion Gracie, who co-founded the Ultimate Fighting Championship (UFC) in 1993.[30][31] Jiu-jitsu came to international prominence in martial arts circles when Brazilian jiu-jitsu expert Royce Gracie won the first, second and fourth Ultimate Fighting Championships, which at the time were single elimination martial arts tournaments. Royce fought successfully against several larger opponents proficient in other fighting styles, including boxing, shootfighting, Muay Thai, karate, wrestling, and taekwondo. BJJ has since become an elementary aspect of MMA, revealing the importance of ground fighting in a fight. Sport BJJ tournaments continue to grow in popularity and have given rise to no-gi submission grappling tournaments, such as the ADCC Submission Wrestling World Championship and NAGA, the North American Grappling Association. Sport BJJ has also become a popular method of fitness around the world in recent years.[32][33] \n",
      "you are an expert mcq maker. given the above text, it is your job to \\ \n",
      "create a quiz of 4 multiple choice questions for Brasilian Jiu Jitsu students in simple tone. \n",
      "make sure the questions are not repeated and check all the questions to be conforming the text as well. \n",
      "make sure to format your response like RESPONSE_JSON bellow and use it as a guide. ensure to make 4 mcqs.\n",
      "### RESPONSE_JSON \n",
      "{\"1\": {\"mcq\": \"multiple choice question\", \"options\": {\"a\": \"choice here\", \"b\": \"choice here\", \"c\": \"choice here\", \"d\": \"choice here\"}, \"correct\": \"correct answer\"}, \"2\": {\"mcq\": \"multiple choice question\", \"options\": {\"a\": \"choice here\", \"b\": \"choice here\", \"c\": \"choice here\", \"d\": \"choice here\"}, \"correct\": \"correct answer\"}, \"3\": {\"mcq\": \"multiple choice question\", \"options\": {\"a\": \"choice here\", \"b\": \"choice here\", \"c\": \"choice here\", \"d\": \"choice here\"}, \"correct\": \"correct answer\"}} \n",
      "\n",
      "\u001b[0m\n",
      "\n",
      "\u001b[1m> Finished chain.\u001b[0m\n",
      "\n",
      "\u001b[1m> Finished chain.\u001b[0m\n"
     ]
    }
   ],
   "source": [
    "#https://python.langchain.com/docs/modules/model_io/llms/token_usage_tracking\n",
    "\n",
    "#How to setup Token Usage Tracking in LangChain\n",
    "with get_openai_callback() as cb:\n",
    "    response=generate_evaluate_chain(\n",
    "        {\n",
    "            \"text\": TEXT,\n",
    "            \"number\": NUMBER,\n",
    "            \"subject\":SUBJECT,\n",
    "            \"tone\": TONE,\n",
    "            \"response_json\": json.dumps(RESPONSE_JSON)\n",
    "        }\n",
    "        )"
   ]
  },
  {
   "cell_type": "code",
   "execution_count": 33,
   "metadata": {},
   "outputs": [
    {
     "name": "stdout",
     "output_type": "stream",
     "text": [
      "Total Tokens:5691\n",
      "Prompt Tokens:5084\n",
      "Completion Tokens:607\n",
      "Total Cost:0.00884\n"
     ]
    }
   ],
   "source": [
    "print(f\"Total Tokens:{cb.total_tokens}\")\n",
    "print(f\"Prompt Tokens:{cb.prompt_tokens}\")\n",
    "print(f\"Completion Tokens:{cb.completion_tokens}\")\n",
    "print(f\"Total Cost:{cb.total_cost}\")"
   ]
  },
  {
   "cell_type": "code",
   "execution_count": 34,
   "metadata": {},
   "outputs": [
    {
     "data": {
      "text/plain": [
       "{'text': 'Brazilian jiu-jitsu (BJJ; Portuguese: jiu-jitsu brasileiro [ʒiw ˈʒitsu bɾaziˈlejɾu, ʒu -]) is a self-defence martial art and combat sport based on grappling, ground fighting, and submission holds. BJJ focuses on taking ones opponent down to the ground, gaining a dominant position, and using a number of techniques to force them into submission via joint locks or chokeholds.\\n\\nBrazilian jiu-jitsu was first developed in 1925 by Brazilian brothers Carlos, Oswaldo, Gastão Jr., O’Brien, and Hélio Gracie, after Carlos was taught a hybrid of traditional Japanese Jujitsu and Kodokan judo by a travelling Japanese judoka, Mitsuyo Maeda, in 1917. Later on, the Gracie family developed their own self-defense system Gracie Jiu-Jitsu.\\n\\nBJJ eventually came to be its own defined combat sport through the innovations, practices, and adaptation of Gracie jiu-jitsu and judo, and became an essential martial art for modern MMA.\\n\\nBJJ revolves around the concept that a smaller, weaker person can successfully defend themselves against a bigger, stronger, heavier opponent by using leverage and weight distribution, taking the fight to the ground and using a number of holds and submissions to defeat them. BJJ training can be used for sport grappling and self-defense situations.[3] Sparring, commonly referred to as \"rolling\" within the BJJ community, and live drilling plays a major role in training and the practitioner\\'s development. BJJ can also be used as a method of promoting physical fitness, building character, and as a way of life.[4][5] \\nOrigins\\n\\nMitsuyo Maeda, one of the Kodokan\\'s top groundwork experts trained by Tomita Tsunejirō, the first student of judo\\'s founder Kano Jigoro, was sent overseas to demonstrate and spread his art to the world. He left Japan in 1904 and visited several countries giving \"jiu-do\" demonstrations and accepting challenges from wrestlers, boxers, savate fighters, and various other martial artists, and arrived in Brazil on 14 November 1914.[6]\\nMaeda & Gracie\\n\\nGastão Gracie was a business partner of the American Circus in Belém. In 1916, Italian Argentine circus Queirolo Brothers staged shows there and presented Maeda.[7][8]\\n\\nIn 1917 Gastão\\'s eldest son Carlos Gracie[9] watched a demonstration of ‘Kano jiu-jitsu’ (judo\\'s common name at the time) by Maeda at the Da Paz Theatre and decided he wanted to learn. Maeda accepted him as a pupil at his school overseen by Jacintho Ferro.[1] Gracie\\'s account of the events is that his younger sibling Hélio Gracie gradually developed Gracie jiu-jitsu as a softer, pragmatic adaptation that focused more on the ground fighting and leverages aspect of jiu-jitsu/judo (ne-waza) rather than the throws, as he was unable to perform many judo throws, due to his size, that required direct opposition to an opponent\\'s strength.[10]\\n\\nAlthough the Gracie family is typically recognized as the main family to first promote Brazilian jiu-jitsu as it is known today, there was also another prominent lineage derived from Maeda via another Brazilian disciple, Luiz França.[11] This discipline was taught to Italian legend of the sport Marco Donello who later on passed his extensive knowledge to Mark McDonnell (his Australian nephew). This lineage had been represented particularly by Oswaldo Fadda. Fadda and his students were famous for defeating the Gracies in a gym battle and the influential use of footlocks,[12] and the lineage still survives through Fadda\\'s links in teams such as Nova União and Grappling Fight Team.[13] Besides Fadda\\'s lineage, there are four other main BJJ branches in Brazil: Gracie Humaita, Gracie Barra, Carlson Gracie Jiu-Jitsu, and Alliance Jiu Jitsu. Each branch traces its roots back to Mitsuyo Maeda.\\nName\\n\\nThe name \"jiu-jitsu\" derives from an older romanization of its original spelling in the West; the modern Hepburn romanization of 柔術 is \"jūjutsu\".\\n\\nWhen Maeda left Japan, judo was still often referred to as \"Kano jiu-jitsu\",[14] or, even more generically, simply as jiu-jitsu.[15][16] Higashi, the co-author of The Complete Kano Jiu-Jitsu (Judo)[14] wrote in the foreword:\\n\\n    Some confusion has arisen over the employment of the term \\'jiudo\\'. To make the matter clear I will state that jiudo is the term selected by Professor Kano as describing his system more accurately than jiu-jitsu does. Professor Kano is one of the leading educators of Japan, and it is natural that he should cast about for the technical word that would most accurately describe his system. But the Japanese people generally still cling to the more popular nomenclature and call it jiu-jitsu.[14]\\n\\nYoung Hélio Gracie in 1952.\\n\\nOutside Japan, however, this distinction was noted even less. Thus, when Maeda and Satake arrived in Brazil in 1914, every newspaper announced their art as being \"jiu-jitsu\", despite both men being Kodokan judoka.\\n\\nIt was not until 1925 that the Japanese government itself officially mandated that the correct name for the martial art taught in the Japanese public schools should be \"judo\" rather than \"jujutsu\".[17] In Brazil, the art is still called \"jiu-jitsu\". When the Gracies went to the United States and spread jiu-jitsu, they used the terms \"Gracie jiu-jitsu\" and non-Gracies using the term \"Brazilian jiu-jitsu\" to differentiate from the already present styles using similar-sounding names. In a 1994 interview with Yoshinori Nishi, Hélio Gracie said that he did not even know the word judo itself until the sport came in the 1950s to Brazil, because he heard that Mitsuyo Maeda called his style \"jiu-jitsu\".\\n\\nThe art is sometimes referred to as Gracie jiu-jitsu (GJJ), a name trademarked by Rorion Gracie, but after a legal dispute with his cousin Carley Gracie, his trademark to the name was voided.[18] Other members of the Gracie family often call their style by personalized names, such as Ceaser Gracie Jiu-Jitsu or Renzo Gracie Jiu-Jitsu, and similarly, the Machado family call their style Machado Jiu-Jitsu (MJJ). While each style and its instructors have their own unique aspects, they are all basic variations of Brazilian jiu-jitsu.\\n\\nBrazilian jiu-jitsu shares many techniques with the original Kodokan judo, especially certain styles practiced before judo became part of the Olympics such as Kosen judo,[19][20] and still practiced to a lesser extent,[21] as well as with the earlier ryu school of jujutsu. Because of this some practitioners have suggested that Brazilian jiu-jitsu should just be called \"jiu-jitsu\".[22]\\nDivergence from Kodokan Judo and Jujutsu\\n\\nCertain changes were made to the rules of judo after it was introduced to Brazil. Some of these rule changes sought to enhance it as a spectator sport, and to improve safety. Several of these rule changes de-emphasized the groundwork aspects of judo, and others have reduced the range of joint locks application. Brazilian jiu-jitsu since its inception did not strictly follow kodokan judo rules, this divergence helped BJJ develop a distinct identity becoming a groundwork and submission focus fighting style. This difference was later consolidated with the creation of a new set of rules that guide BJJ practice today.[23]\\n\\nEven though BJJ uses and allows many of the techniques found in judo and jujutsu, the evolution of these techniques in BJJ has followed a distinct path, giving primary emphasis to ground fighting positions and maneuvers, and having the guard as the central working point of the fight. There\\'s also a difference on how the fighting techniques are scored in competition. In BJJ positions such as the rear mount receive a higher score, and the focus of the fight is to establish a dominant position against the adversary on the ground and submit them using chokeholds or joint locks. By contrast in judo, throwing techniques are scored higher and can give a direct victory if executed correctly, the goal of the fight is to sweep or throw the opponent to the ground to win.\\n\\nBJJ also allows heelhooks and knee-reaping which are prohibited in judo, and any takedowns used in wrestling, sambo, or other grappling arts, including direct attempts to take down by touching the legs or dragging the opponent to the ground.[24] Spinal locks and cervical locks are not allowed in gi jiu-jitsu,[23] amateur MMA,[25] multiple forms of no-gi jiu-jitsu,[23] Judo,[26] and other martial arts,[27] due to potential to cause serious bodily injury. BJJ also has become more \"sports-oriented\" in recent years, prohibiting techniques such as slams.[28] Another divergence of BJJ from judo and jujutsu is that the first allows no-gi practice and competition, with its own subset of rules. Use of holds and takedowns from wrestling and other grappling styles is common in no-gi BJJ, and strikes may also be used when the competition rules permit, such as the open palm strike in CJJ (Combat jiu-jitsu).[29]\\nProminence\\n\\nIn 1972, Carlos Gracie moved to the United States to teach jiu-jitsu, and in 1978 was followed by Rorion Gracie, who co-founded the Ultimate Fighting Championship (UFC) in 1993.[30][31] Jiu-jitsu came to international prominence in martial arts circles when Brazilian jiu-jitsu expert Royce Gracie won the first, second and fourth Ultimate Fighting Championships, which at the time were single elimination martial arts tournaments. Royce fought successfully against several larger opponents proficient in other fighting styles, including boxing, shootfighting, Muay Thai, karate, wrestling, and taekwondo. BJJ has since become an elementary aspect of MMA, revealing the importance of ground fighting in a fight. Sport BJJ tournaments continue to grow in popularity and have given rise to no-gi submission grappling tournaments, such as the ADCC Submission Wrestling World Championship and NAGA, the North American Grappling Association. Sport BJJ has also become a popular method of fitness around the world in recent years.[32][33] ',\n",
       " 'number': 4,\n",
       " 'subject': 'Brasilian Jiu Jitsu',\n",
       " 'tone': 'simple',\n",
       " 'response_json': '{\"1\": {\"mcq\": \"multiple choice question\", \"options\": {\"a\": \"choice here\", \"b\": \"choice here\", \"c\": \"choice here\", \"d\": \"choice here\"}, \"correct\": \"correct answer\"}, \"2\": {\"mcq\": \"multiple choice question\", \"options\": {\"a\": \"choice here\", \"b\": \"choice here\", \"c\": \"choice here\", \"d\": \"choice here\"}, \"correct\": \"correct answer\"}, \"3\": {\"mcq\": \"multiple choice question\", \"options\": {\"a\": \"choice here\", \"b\": \"choice here\", \"c\": \"choice here\", \"d\": \"choice here\"}, \"correct\": \"correct answer\"}}',\n",
       " 'quiz': '\\n{\\n    \"1\": {\\n        \"mcq\": \"What year was Brazilian jiu-jitsu first developed?\",\\n        \"options\": {\\n            \"a\": \"1925\",\\n            \"b\": \"1917\",\\n            \"c\": \"1972\",\\n            \"d\": \"1993\"\\n        },\\n        \"correct\": \"a\"\\n    },\\n    \"2\": {\\n        \"mcq\": \"Who were the Brazilian brothers who first developed Brazilian jiu-jitsu?\",\\n        \"options\": {\\n            \"a\": \"Carlos and Hélio Gracie\",\\n            \"b\": \"Carlos and Oswaldo Gracie\",\\n            \"c\": \"Carlos and Gastão Gracie\",\\n            \"d\": \"Carlos and O\\'Brien Gracie\"\\n        },\\n        \"correct\": \"b\"\\n    },\\n    \"3\": {\\n        \"mcq\": \"What is the main focus of Brazilian jiu-jitsu?\",\\n        \"options\": {\\n            \"a\": \"Striking techniques\",\\n            \"b\": \"Ground fighting and grappling\",\\n            \"c\": \"Kicking techniques\",\\n            \"d\": \"Weapon defense\"\\n        },\\n        \"correct\": \"b\"\\n    },\\n    \"4\": {\\n        \"mcq\": \"Who won the first, second, and fourth Ultimate Fighting Championships using Brazilian jiu-jitsu?\",\\n        \"options\": {\\n            \"a\": \"Royce Gracie\",\\n            \"b\": \"Rorion Gracie\",\\n            \"c\": \"Carlos Gracie\",\\n            \"d\": \"Hélio Gracie\"\\n        },\\n        \"correct\": \"a\"\\n    }\\n}',\n",
       " 'review': '\\n{\\n\"1\": {\\n\"mcq\": \"What year was Brazilian jiu-jitsu first developed?\",\\n\"options\": {\\n\"a\": \"1904\",\\n\"b\": \"1917\",\\n\"c\": \"1925\",\\n\"d\": \"1972\"\\n},\\n\"correct\": \"c\"\\n},\\n\"2\": {\\n\"mcq\": \"Who were the Brazilian brothers who developed Brazilian jiu-jitsu?\",\\n\"options\": {\\n\"a\": \"Carlos and Oswaldo Gracie\",\\n\"b\": \"Carlos, Oswaldo, Gastão Jr., O’Brien, and Hélio Gracie\",\\n\"c\": \"Rorion and Royce Gracie\",\\n\"d\": \"Carlos and Hélio Gracie\"\\n},\\n\"correct\": \"b\"\\n},\\n\"3\": {\\n\"mcq\": \"What is the main focus of Brazilian jiu-jitsu?\",\\n\"options\": {\\n\"a\": \"Striking\",\\n\"b\": \"Ground fighting\",\\n\"c\": \"Weapons training\",\\n\"d\": \"High kicks\"\\n},\\n\"correct\": \"b\"\\n},\\n\"4\": {\\n\"mcq\": \"Who won the first, second, and fourth Ultimate Fighting Championships using Brazilian jiu-jitsu?\",\\n\"options\": {\\n\"a\": \"Royce Gracie\",\\n\"b\": \"Rorion Gracie\",\\n\"c\": \"Carlos Gracie\",\\n\"d\": \"Oswaldo Gracie\"\\n},\\n\"correct\": \"a\"\\n}\\n}'}"
      ]
     },
     "execution_count": 34,
     "metadata": {},
     "output_type": "execute_result"
    }
   ],
   "source": [
    "response"
   ]
  },
  {
   "cell_type": "code",
   "execution_count": 35,
   "metadata": {},
   "outputs": [],
   "source": [
    "quiz=response.get(\"quiz\")"
   ]
  },
  {
   "cell_type": "code",
   "execution_count": 36,
   "metadata": {},
   "outputs": [],
   "source": [
    "quiz=json.loads(quiz)"
   ]
  },
  {
   "cell_type": "code",
   "execution_count": 37,
   "metadata": {},
   "outputs": [],
   "source": [
    "quiz_table_data = []\n",
    "for key, value in quiz.items():\n",
    "    mcq = value[\"mcq\"]\n",
    "    options = \" | \".join(\n",
    "        [\n",
    "            f\"{option}: {option_value}\"\n",
    "            for option, option_value in value[\"options\"].items()\n",
    "            ]\n",
    "        )\n",
    "    correct = value[\"correct\"]\n",
    "    quiz_table_data.append({\"MCQ\": mcq, \"Choices\": options, \"Correct\": correct})"
   ]
  },
  {
   "cell_type": "code",
   "execution_count": 38,
   "metadata": {},
   "outputs": [
    {
     "data": {
      "text/plain": [
       "[{'MCQ': 'What year was Brazilian jiu-jitsu first developed?',\n",
       "  'Choices': 'a: 1925 | b: 1917 | c: 1972 | d: 1993',\n",
       "  'Correct': 'a'},\n",
       " {'MCQ': 'Who were the Brazilian brothers who first developed Brazilian jiu-jitsu?',\n",
       "  'Choices': \"a: Carlos and Hélio Gracie | b: Carlos and Oswaldo Gracie | c: Carlos and Gastão Gracie | d: Carlos and O'Brien Gracie\",\n",
       "  'Correct': 'b'},\n",
       " {'MCQ': 'What is the main focus of Brazilian jiu-jitsu?',\n",
       "  'Choices': 'a: Striking techniques | b: Ground fighting and grappling | c: Kicking techniques | d: Weapon defense',\n",
       "  'Correct': 'b'},\n",
       " {'MCQ': 'Who won the first, second, and fourth Ultimate Fighting Championships using Brazilian jiu-jitsu?',\n",
       "  'Choices': 'a: Royce Gracie | b: Rorion Gracie | c: Carlos Gracie | d: Hélio Gracie',\n",
       "  'Correct': 'a'}]"
      ]
     },
     "execution_count": 38,
     "metadata": {},
     "output_type": "execute_result"
    }
   ],
   "source": [
    "quiz_table_data"
   ]
  },
  {
   "cell_type": "code",
   "execution_count": 39,
   "metadata": {},
   "outputs": [],
   "source": [
    "quiz=pd.DataFrame(quiz_table_data)"
   ]
  },
  {
   "cell_type": "code",
   "execution_count": 40,
   "metadata": {},
   "outputs": [],
   "source": [
    "quiz.to_csv(\"bjj.csv\",index=False)"
   ]
  },
  {
   "cell_type": "code",
   "execution_count": 41,
   "metadata": {},
   "outputs": [
    {
     "data": {
      "text/plain": [
       "'03_03_2024_18_04_33'"
      ]
     },
     "execution_count": 41,
     "metadata": {},
     "output_type": "execute_result"
    }
   ],
   "source": [
    "from datetime import datetime\n",
    "datetime.now().strftime('%m_%d_%Y_%H_%M_%S')"
   ]
  }
 ],
 "metadata": {
  "kernelspec": {
   "display_name": "Python 3",
   "language": "python",
   "name": "python3"
  },
  "language_info": {
   "codemirror_mode": {
    "name": "ipython",
    "version": 3
   },
   "file_extension": ".py",
   "mimetype": "text/x-python",
   "name": "python",
   "nbconvert_exporter": "python",
   "pygments_lexer": "ipython3",
   "version": "3.8.18"
  }
 },
 "nbformat": 4,
 "nbformat_minor": 2
}
